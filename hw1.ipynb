{
 "cells": [
  {
   "cell_type": "markdown",
   "metadata": {},
   "source": [
    "# Домашнее задание 1 (30 pts)"
   ]
  },
  {
   "cell_type": "markdown",
   "metadata": {},
   "source": [
    "- (2 pts) Докажите, что $\\| A \\|_F \\le \\sqrt{\\mathrm{rank}(A)} \\| A \\|_2$.\n",
    "- (2 pts) Покажите, что для любых $m, n$ и $k \\le \\min(m, n)$ существует $A \\in \\mathbb{R}^{m \\times n}: \\mathrm{rank}(A) = k$, такая что $\\| A \\|_F = \\sqrt{\\mathrm{rank}(A)} \\| A \\|_2$.\n",
    "- (2 pts) Докажите, что $\\| A B \\|_F \\le \\| A \\|_2 \\| B \\|_F$.\n",
    "\n",
    "- (2 pts) Пусть матрица $A \\in \\mathbb{C}^{n \\times n}$ и её сингулярное разложение $A = U\\Sigma V^*$. Найдите сингулярное разложение матрицы $\\begin{bmatrix} 0 & A^* \\\\ A & 0 \\end{bmatrix}$ размера $2n \\times 2n$\n",
    "- (7 pts) Пусть известно QR разложение прямоугольной $m\\times n, m > n$ матрицы $A = QR$. Покажите, как изменится данное разложение при следующих изменениях матрицы $A$\n",
    "    - замена $k$-го столбца на другой вектор-столбец\n",
    "    - конкатенация новой строки - новая матрица размерности $(m+1) \\times n$\n",
    "    - конкатенация нового столбца - новая матрица размерности $m \\times n+1$\n",
    "\n",
    "Оцените сложность каждого из этих преобразований. Реализуйте все три преобразования и покажите численно, что ваши алгоритмы обновлений работают корректно и быстрее наивных реализаций с полным пересчётом матриц $Q$ и $R$. Используйте тестовые матрицы размерностями не меньше нескольких сотен строк и столбцов.\n",
    "\n",
    "- (4 pts) Получите сингулярное разложение и спектральную норму матрицы $A = u_1v_1^* + u_2v_2^*$, где $u_{1,2} \\in \\mathbb{C}^m, v_{1,2} \\in \\mathbb{C}^n$\n",
    "- (3 pts) Пусть $A$ такая матрица, что $a_{i,j} \\geq 0$ и $\\sum_{j}a_{i,j} = 1$ (сумма элементов вкаждой строке равна 1). Докажите, что $A$ имеет собственное значение $\\lambda=1$ и что все собственные значения $\\lambda_i$ таковы что $|\\lambda_i| \\le 1$  \n",
    "- (3 pts) Докажите, что нормальная матрица Эрмитова iff её собственные значения действительны. Докажите, что нормальная матрица унитарна iff все её собственные значения таковы что $|\\lambda| = 1$. \n",
    "\n",
    "Iff означает тогда и только тогда\n",
    "\n",
    "- (5 pts) Найдите аналитическое выражение для собственнных значений возмущённого Жорданова блока\n",
    "    \n",
    "    $$ J(\\varepsilon) =\n",
    "        \\begin{bmatrix}\n",
    "         \\lambda & 1 & & & 0 \\\\\n",
    "        0 & \\lambda & 1 & & \\\\\n",
    "         0 & 0 & \\ddots & \\ddots & \\\\\n",
    "         \\ldots & \\ldots & \\ldots & \\lambda & 1 \\\\\n",
    "         \\varepsilon & 0 & 0 & 0 & \\lambda  \\\\\n",
    "        \\end{bmatrix}_{n\\times n}\n",
    "    $$\n",
    "    \n",
    "    Прокомментируйте как собственные значения $J(0)$ возмущены для больших $n$? Что это говорит об устойчивости получения спектра матрицы через Жорданов блок?"
   ]
  },
  {
   "cell_type": "markdown",
   "metadata": {},
   "source": [
    "# №1\n",
    "$\\| A \\|_F^2 = (A, A)_F = tr(A^T * A)$, пусть $A = U \\Sigma V^*$ - свд разложение, тогда\n",
    "$tr(A^T * A) = U^* \\Sigma^T * \\Sigma * U = $ \n",
    "$$\\Sigma^T * \\Sigma =\n",
    "        \\begin{bmatrix}\n",
    "        \\sigma_1^2 & \\dots & 0 &0 &0 &\\dots& 0\\\\\n",
    "        0 & \\sigma_2^2 \\dots & 0 & 0 & 0 &\\dots& 0\\\\\n",
    "        0 & 0 & \\ddots &  \\\\\n",
    "        \\ldots & \\ldots & \\ldots & \\sigma_{r-1}^2 & 0 &\\dots& 0\\\\\n",
    "        0 & 0 & 0 & 0 & \\sigma_{r}^2 &\\dots& 0\\\\\n",
    "        \\ldots & \\ldots & \\ldots & \\ldots & \\ldots \\\\\n",
    "        0 & 0 & 0 & 0 & 0 &\\dots& 0\n",
    "        \\end{bmatrix}_{m\\times n}\n",
    "$$\n",
    "\n",
    "Тогда по свойству унитарной матрицы(произведение строк равно 0, если i!= j и равно 1 иначе) после раскрытия произведения получим:\n",
    "$tr(U^* \\Sigma^T \\Sigma U) = \\sum_{i = 1}^{r} \\sigma_i^2$, где r - ранг матрицы.\n",
    "\n",
    "$\\sum_{i = 1}^{r} \\sigma_i^2 \\leq rank(A) * \\sigma_1^2 = rank(A) * \\| A \\|_2^2 $\n",
    "\n",
    "Тогда $\\| A \\|_F^2 \\leq rank(A) \\| A \\|_2^2 $ \n",
    "\n",
    "Тогда $\\| A \\|_F \\leq \\sqrt{rank(A)} \\| A \\|_2$\n",
    "\n",
    "ЧТД!"
   ]
  },
  {
   "cell_type": "markdown",
   "metadata": {},
   "source": [
    "# №2\n",
    "Рассмотрим блочную матрицу вида\n",
    "$$\n",
    "        \\begin{bmatrix}\n",
    "        I_k & 0 \\\\\n",
    "        0 & 0\n",
    "        \\end{bmatrix}_{m\\times n}\n",
    "    $$\n",
    "Где $I_k$ - единичная матрица размера k, а остальные матрицы - нулевые. Тогда все сингулярные числа равны 1, причем их всего k. \n",
    "\n",
    "$\\sum_{i = 1}^{r} \\sigma_i^2 = k = k * max(\\sigma_i) = k * 1$, получим\n",
    "\n",
    "$\\| A \\|_F^2 = rank(A) \\| A \\|_2^2$\n",
    "\n",
    "$\\| A \\|_F = \\sqrt{rank(A)} \\| A \\|_2$"
   ]
  },
  {
   "cell_type": "markdown",
   "metadata": {},
   "source": [
    "# №3\n",
    "$\\| AB \\|_F^2 = \\|[Ab_1 \\dots Ab_n]\\|_F^2 = \\sum_{i = 1}^{n}\\|Ab_i\\|_2^2 \\leq \\| A\\|_2^2 * \\sum_{i = 1}^{n}\\|b_i\\|_2^2 = \\| A\\|_2^2 * \\| B\\|_F^2$, получим:\n",
    "\n",
    "$\\| AB \\|_F \\leq \\| A \\|_2 * \\| B \\|_F$"
   ]
  },
  {
   "cell_type": "markdown",
   "metadata": {},
   "source": [
    "# №4\n",
    "пусть $A = U\\Sigma V^*$, тогда $A^* = V\\Sigma U^*$\n",
    "Тогда рассмотрим произведение матриц \n",
    "$$ M_1 = \n",
    "\\begin{bmatrix}\n",
    "        0 & U^* \\\\\n",
    "        V^* & 0 \\\\\n",
    "        \\end{bmatrix}\n",
    "        $$\n",
    "$$ M_2 = \n",
    "\\begin{bmatrix}\n",
    "        0 & V\\Sigma U^* \\\\\n",
    "        U\\Sigma V^* & 0 \\\\\n",
    "        \\end{bmatrix}\n",
    "        $$\n",
    "$$ M_3 = \n",
    "\\begin{bmatrix}\n",
    "        U & 0 \\\\\n",
    "        0 & V \\\\\n",
    "        \\end{bmatrix}\n",
    "        $$     \n",
    "$$ M_1 * M_2 = \n",
    "\\begin{bmatrix}\n",
    "        \\Sigma V^* & 0 \\\\\n",
    "        0 & \\Sigma U^* \\\\\n",
    "        \\end{bmatrix}\n",
    "        $$  \n",
    "$$ M_1 * M_2 * M_3 = \n",
    "\\begin{bmatrix}\n",
    "        \\Sigma & 0 \\\\\n",
    "        0 & \\Sigma \\\\\n",
    "        \\end{bmatrix}\n",
    "        $$  \n",
    "Причем\n",
    "$$ M_1 * M_3 =\n",
    "\\begin{bmatrix}\n",
    "        I & 0 \\\\\n",
    "        0 & I \\\\\n",
    "        \\end{bmatrix}\n",
    "        $$  \n",
    "Получим, что $M_1^* = M_3$\n",
    "$$M_4 =\n",
    "\\begin{bmatrix}\n",
    "\\Sigma & 0 \\\\\n",
    "0 & \\Sigma \\\\\n",
    "\\end{bmatrix}\n",
    "$$\n",
    "Тогда домножим $M_1 * M_2 * M_3$ на $M_1^*$ слева и на $M_3^*$ справа:\n",
    "$M_2 = M_3 * M_4 * M_3^*$, причем \n",
    "\n",
    "$$M_2 = \n",
    "\\begin{bmatrix}\n",
    "        0 & A^* \\\\\n",
    "        A & 0 \\\\\n",
    "        \\end{bmatrix}\n",
    "$$, тогда сингулярное разложение матрицы $M_2$ равно\n",
    "$M_2 = U * \\Sigma * U^*$ где $U = M_3$, а $\\Sigma = M_4$"
   ]
  },
  {
   "cell_type": "markdown",
   "metadata": {},
   "source": [
    "# №5\n",
    "Код в конце файла.\n",
    "\n",
    "- 1) \n",
    "\n",
    "Рассмотрим матрицу A = QR(изначальную), тогда пусть $A^{'}$ с k-ым измененным столбцом. Тогда матрица Q^T A будет таже самая R, только с измененным k-ым столбцом. Тогда по сути нам по сути надо занулить n-k элементов. Сделаем это с помощью матрицы Гивенса, будем поворачивать последний с предпослденим(зануляя последний) итд до N-k, тогда единственный элемент, поменявшийся под диагональю - будет элемент под следующей диалгональю. Тогда будем поворачивать последовательно элеменет под диагональю с элементом на диагонали, тогда получим, еще K спусков. Итого матриц Гивенса. Умножение на матрицу Гивенса делается за O(m), так как нам на каждой строке нужно поменять только 2 элемента. Тогда получим выражение $Q G_n^{*} \\dots G_1^{*} G_1 \\dots G_n R^{'}$. Тогда новая матрица Q будет иметь вид $Q G_1^{*} \\dots G_n^{*}$, а R - $G_n \\dots G_1 R^{'}$. Причем $G^{*}$ - также матрица Гивенса. Тогда будет m итераций по $O(m)$, тогда итоговая сложность - O(m^2)\n",
    "\n",
    "- 2)\n",
    "Пусть $A = QR$, тогда рассмотрим новую матрицу $A^{'}$, полученную после контениации строки, тогда добавим строку $[0, \\dots, 1](размером m+1)$ к матрице Q, а также заполним новый образовавшийся столбец нулями. Данный столбец будет ортогонален осташимся. Обозначим ее через $Q^{'}$, она будет ортогональной. Мы это можем сделать за n. Тогда рассмотрим матрицу $Q^{'}.T A^{'}$, это будет матрица R с добавленной одной строкой, полученной умножением последнего столбца матрицы $Q^{'}$, на последнюю строку(обозначим ее $R^{'}$.(это делатся за $O(m)$) Это последняя строка с коэффициентом 1. Тогда, если мы перенесем последнюю строку на 1-ое место, а последующие циклически сдвинем вниз, то получим матрицу верхне-Гессенебрговую. Тогда из верхне-Гессенебрговой матрицы необходимо получить диагональную матрицу за $O(m^2)$. Это можно сделать последовательно применяя матрицу Гивенса для элемента на диагонали и под диагональю, заменяя тот, который под диагональю. Тогда единственный элемент, под диагональю, который может изменится - это элемен, стоящий непосредственно под диагональю, тогда ничего не изменилось, а мы только удалили первый элемент под диагональю. Тогда будем делать так последовательно. Каждое умножение на матрицу Гивенса стоит O(m), так как нам нужно поменять не более 2 элементов в каждой строке. Тогда общая сложность будет равна $O(m^2)$. Но тогда получим\n",
    "\n",
    "$Q^{'}.T A = G_1^{*} \\dots G_n^{*} G_n \\dots G_1 R^{'}$, тогда нам будет необходимо последовательно умножить матрицу Q^{'} на $G_n^{*} \\dots G_1^{*}$, чтбы получить новую Q, это делается аналогично за $O(m^2)$, поскольку $G^{*}$ - также является матрицей Гивенса. Тогда общая сложность будет равна O(m^2). \n",
    "\n",
    "- 3)\n",
    "Если мы добавили новый столбец, то нам необходимо построить новый столбец матрицы Q,ортогональный всем предыдущим из Q. Тогда построим его, используя устойчивый алгоритм грамма Шмидта. Тогда, получим также и новый столбец R, аналогично дописав коэффициенты полученные при разложении умноженные на норму."
   ]
  },
  {
   "cell_type": "markdown",
   "metadata": {},
   "source": [
    "# №6\n",
    "Рассмотрим случай, когда вектора $u_1, u_2$ и $v_1, v_2$ - ортоганальны. Тогда \n",
    "$u_1^{*}A = v_1 * \\|u_1\\|^2$\n",
    "$u_2^{*}A = v_2 * \\|u_2\\|^2$\n",
    "$Av_1 = \\|v_1\\|^2 * u_1$\n",
    "$Av_2 = \\|v_2\\|^2 * u_2$\n",
    "Тогда сингулярные числа будут равны $\\sigma_1 = \\|u_1\\| \\|v_1\\|, \\sigma_2 = \\|u_2\\| \\|v_2\\|$ \n",
    "А сингулярные векторы будут иметь вид:\n",
    "$f_1 = \\frac{u_1}{\\|u_1\\|}$\n",
    "$f_2 = \\frac{u_2}{\\|u_2\\|}$\n",
    "$g_1^{*} = \\frac{v_1^{*}}{\\|v_1\\|}$\n",
    "$g_2^{*} = \\frac{v_2^{*}}{\\|v_2\\|}$"
   ]
  },
  {
   "cell_type": "markdown",
   "metadata": {},
   "source": [
    "# №7\n",
    "Пусть матрица A имеет вид:\n",
    "\n",
    "\n",
    "$$ A =\n",
    "\\begin{vmatrix}\n",
    "        a_{11} & \\dots & a_{1n}\\\\\n",
    "        \\ldots & \\ldots & \\ldots & \\\\\n",
    "        a_{m1} & \\dots & a_{nn}\n",
    "        \\end{vmatrix}_{n\\times n}\n",
    "$$\n",
    "\n",
    "Докажем, что $\\lambda = 1$ - собственное значение:\n",
    "$$ |A| =\n",
    "\\begin{vmatrix}\n",
    "        a_{11} - \\lambda & \\dots & a_{1n}\\\\\n",
    "        \\ldots & \\ldots & \\ldots & \\\\\n",
    "        a_{n1} & \\dots & a_{nn} - \\lambda\n",
    "        \\end{vmatrix}_{n\\times n}\n",
    "$$\n",
    "\n",
    "Сложим все строки в последний столбец:\n",
    "\n",
    "$$ |A| =\n",
    "\\begin{vmatrix}\n",
    "        a_{11} - \\lambda & \\dots & 1 - \\lambda\\\\\n",
    "        \\ldots & \\ldots & \\ldots & \\\\\n",
    "        a_{n1} & \\dots & 1 - \\lambda\n",
    "        \\end{vmatrix}_{n\\times n}\n",
    "$$\n",
    "\n",
    "При $\\lambda = 1$, получим, что последний столбец равен 1, тогда определитель равен 0.\n",
    "\n",
    "Предположим, что $\\lambda_i$ - собственное значение, а $b$ - собственный вектор, тогда\n",
    "\n",
    "Рассмотрим норму $\\| A b \\|_1 \\leq \\| A \\|_1 * \\|b\\|_1 = 1 * \\|b\\|_1$\n",
    "\n",
    "$\\| A b \\|_1 = \\|\\lambda b|_1 = \\lambda \\|b|_1$, тогда \n",
    "\n",
    "$\\lambda \\|b|_1 \\leq 1 * \\|b\\|_1$, тогда $|\\lambda \\leq 1|$ ЧТД!"
   ]
  },
  {
   "cell_type": "markdown",
   "metadata": {},
   "source": [
    "# №8\n",
    "1. \n",
    "Если матрица эрмитова, то $A = A^*$.\n",
    "\n",
    "Если матрица нормальная, то она по теореме Шура раскладывается в следующий вид:\n",
    "\n",
    "$A = U\\Lambda U^*$, $A^* = U \\Lambda^* U^*$, получается, что $A = A*$, только тогда и тогда, когда $ \\Lambda = \\Lambda^*$, то есть, когда каждое собственное значение равно своему сопряженному. ЧТД! \n",
    "\n",
    "2. \n",
    "$A = U\\Lambda U^*$, тогда A - унитарна, если $A A^* = A^* A= I$, первое равенство следует из нормальности, докажем второе:\n",
    "\n",
    "$A A* = U \\Lambda \\Lambda^* U^*$, причем $U U^* = I$, тогда получим, что \n",
    "\n",
    "$U \\Lambda \\Lambda^* = [u_1 * \\lambda^2, \\dots, u_n * \\lambda^2]$,  \n",
    "\n",
    "$U \\Lambda \\Lambda^* U^*= [\\lambda^2, \\dots, \\lambda^2]$ поскольку $U U = I*$, тогда если мы умножим каждый столбик на $\\lambda_i$, то на i-ом месте на диагонали будет стоять $\\lambda_i$.\n",
    "\n",
    "Тогда, получим, что $\\Lambda \\Lambda^* = I$, тогда $\\lambda_i^2 = 1$,\n",
    "\n",
    "$\\lambda_i = |1|$\n",
    "\n",
    "ЧТД!"
   ]
  },
  {
   "cell_type": "markdown",
   "metadata": {},
   "source": [
    "# №9\n",
    "\n",
    "$$ J(\\varepsilon) =\n",
    "        \\begin{bmatrix}\n",
    "         \\lambda & 1 & & & 0 \\\\\n",
    "        0 & \\lambda & 1 & & \\\\\n",
    "         0 & 0 & \\ddots & \\ddots & \\\\\n",
    "         \\ldots & \\ldots & \\ldots & \\lambda & 1 \\\\\n",
    "         \\varepsilon & 0 & 0 & 0 & \\lambda  \\\\\n",
    "        \\end{bmatrix}_{n\\times n}\n",
    "$$\n",
    "Рассмотрим определитель\n",
    "\n",
    "$$ |J(\\varepsilon)| =\n",
    "        \\begin{vmatrix}\n",
    "         \\lambda - \\alpha & 1 & & & 0 \\\\\n",
    "        0 & \\lambda - \\alpha& 1 & & \\\\\n",
    "         0 & 0 & \\ddots & \\ddots & \\\\\n",
    "         \\ldots & \\ldots & \\ldots & \\lambda - \\alpha & 1 \\\\\n",
    "         \\varepsilon & 0 & 0 & 0 & \\lambda - \\alpha \\\\\n",
    "        \\end{vmatrix}_{n\\times n}\n",
    "$$\n",
    "\n",
    "Вычтем из последней строки первую, умноженную на $\\ \\frac{\\varepsilon}{\\lambda - \\alpha}$, получим\n",
    "\n",
    "$$ |J(\\varepsilon)| =\n",
    "        \\begin{vmatrix}\n",
    "         \\lambda - \\alpha & 1 & & & 0 \\\\\n",
    "        0 & \\lambda - \\alpha& 1 & & \\\\\n",
    "         0 & 0 & \\ddots & \\ddots & \\\\\n",
    "         \\ldots & \\ldots & \\ldots & \\lambda - \\alpha & 1 \\\\\n",
    "         0 & -\\frac{\\varepsilon}{\\lambda - \\alpha} & 0 & 0 & \\lambda - \\alpha \\\\\n",
    "        \\end{vmatrix}_{n\\times n}\n",
    "$$\n",
    "\n",
    "Вычтем из последней строки вторую умноженную на $ -\\frac{\\varepsilon}{(\\lambda - \\alpha)^2}$\n",
    "\n",
    "$$ |J(\\varepsilon)| =\n",
    "        \\begin{vmatrix}\n",
    "         \\lambda - \\alpha & 1 & & & 0 \\\\\n",
    "        0 & \\lambda - \\alpha& 1 & & \\\\\n",
    "         0 & 0 & \\ddots & \\ddots & \\\\\n",
    "         \\ldots & \\ldots & \\ldots & \\lambda - \\alpha & 1 \\\\\n",
    "         0 & 0 & \\frac{\\varepsilon}{(\\lambda - \\alpha)^2} & 0 & \\lambda - \\alpha \\\\\n",
    "        \\end{vmatrix}_{n\\times n}\n",
    "$$\n",
    "\n",
    "Сделаем так еще для всех строк до n-2, получим:\n",
    "\n",
    "$$ |J(\\varepsilon)| =\n",
    "        \\begin{vmatrix}\n",
    "         \\lambda - \\alpha & 1 & & & 0 \\\\\n",
    "        0 & \\lambda - \\alpha& 1 & & \\\\\n",
    "         0 & 0 & \\ddots & \\ddots & \\\\\n",
    "         \\ldots & \\ldots & \\ldots & \\lambda - \\alpha & 1 \\\\\n",
    "         0 & 0 & 0 & (-1)^{n-2}\\frac{\\varepsilon}{(\\lambda - \\alpha)^{n-2}} & \\lambda - \\alpha \\\\\n",
    "        \\end{vmatrix}_{n\\times n}\n",
    "$$\n",
    "\n",
    "Вычтем из последней строки n-1, умноженную на $(-1)^{n-2}\\frac{\\varepsilon}{(\\lambda - \\alpha)^{n-1}}$, получим\n",
    "\n",
    "$$ |J(\\varepsilon)| =\n",
    "        \\begin{vmatrix}\n",
    "         \\lambda - \\alpha & 1 & & & 0 \\\\\n",
    "        0 & \\lambda - \\alpha& 1 & & \\\\\n",
    "         0 & 0 & \\ddots & \\ddots & \\\\\n",
    "         \\ldots & \\ldots & \\ldots & \\lambda - \\alpha & 1 \\\\\n",
    "         0 & 0 & 0 & 0 & \\lambda - \\alpha +  (-1)^{n-1}\\frac{\\varepsilon}{(\\lambda - \\alpha)^{n - 1}}\\\\\n",
    "        \\end{vmatrix}_{n\\times n}\n",
    "$$\n",
    "\n",
    "Тогда собственные значения будут иметь вид $\\alpha = \\lambda$, а также найдем последнее из уравнения:\n",
    "\n",
    "$\\lambda - \\alpha + (-1)^{n-1} \\frac{\\varepsilon}{(\\lambda - \\alpha)^{n-1}} = 0$\n",
    "\n",
    "$(\\lambda - \\alpha)^{n} = (-1)^{n} * \\varepsilon$\n",
    "\n",
    "$\\alpha = \\lambda + (-1)^{n}{\\varepsilon}^{1/(n)}$\n",
    "\n",
    "При большом n ${\\varepsilon}^{1/(n)}$ стремится к 1, получим, что $\\alpha$ не стремится к $\\lambda$, то есть\n",
    "собственные числа Жардановой клетки не является устойчивым.\n",
    "\n",
    "Из этого следует, что вычисление спектра, используя ЖНФ не является устойчивым."
   ]
  },
  {
   "cell_type": "code",
   "execution_count": 112,
   "metadata": {},
   "outputs": [],
   "source": [
    "def naive(A):\n",
    "    '''\n",
    "    полный пересчет\n",
    "    '''\n",
    "    Q = np.zeros_like(A)\n",
    "    R = np.zeros((A.shape[1], A.shape[1]))\n",
    "    n = A.shape[1]\n",
    "    for i in range(A.shape[1]):\n",
    "        Q[:, i] = A[:, i].copy()\n",
    "        for j in range(i):\n",
    "            R[j, i] = Q[:, i] @ Q[:, j]\n",
    "            Q[:, i] -= Q[:, i] @ Q[:, j] * Q[:, j]\n",
    "        R[i, i] = np.linalg.norm(Q[:, i])\n",
    "        Q[:, i] /= np.linalg.norm(Q[:, i])\n",
    "    return Q, R"
   ]
  },
  {
   "cell_type": "code",
   "execution_count": 338,
   "metadata": {},
   "outputs": [],
   "source": [
    "def givens_rotation(Q, R, k, l, column):\n",
    "    a_k, a_l = R[k, column], R[l, column]\n",
    "    cos = a_k / np.sqrt((a_k**2 + a_l**2))\n",
    "    sin = -a_l / np.sqrt((a_k**2 + a_l**2))\n",
    "    G = np.array([[cos, -sin], [sin, cos]])\n",
    "    R[k:l+1] = G @ R[k:l+1]\n",
    "    Q[:, k:l+1] = Q[:, k:l+1] @ G.T"
   ]
  },
  {
   "cell_type": "markdown",
   "metadata": {},
   "source": [
    "# 5.1"
   ]
  },
  {
   "cell_type": "code",
   "execution_count": 298,
   "metadata": {},
   "outputs": [],
   "source": [
    "def swap_col(A):\n",
    "    i = np.random.randint(A.shape[1])\n",
    "    Q, R = np.linalg.qr(A, mode = 'complete')\n",
    "    Q_ = Q.copy()\n",
    "    A[:, i] = np.random.rand(A.shape[0])\n",
    "    R[:, i] = Q.T @ A[:, i]\n",
    "    for j in range(R.shape[1], i + 1, -1):\n",
    "        givens_rotation(Q, R, j - 1, j, i)\n",
    "    for i in range(i, R.shape[1]):\n",
    "        givens_rotation(Q, R, i, i + 1, i)\n",
    "\n",
    "def swap_col_check(A):\n",
    "    i = np.random.randint(A.shape[1])\n",
    "    Q, R = np.linalg.qr(A, mode = 'complete')\n",
    "    Q_ = Q.copy()\n",
    "    A[:, i] = np.random.rand(A.shape[0])\n",
    "    R[:, i] = Q.T @ A[:, i]\n",
    "    for j in range(R.shape[1], i + 1, -1):\n",
    "        givens_rotation(Q, R, j - 1, j, i)\n",
    "    \n",
    "    for i in range(i, R.shape[1]):\n",
    "        givens_rotation(Q, R, i, i + 1, i)\n",
    "    return np.isclose(Q @ R, A).all()\n",
    "    \n",
    "        \n",
    "    "
   ]
  },
  {
   "cell_type": "code",
   "execution_count": 299,
   "metadata": {},
   "outputs": [
    {
     "data": {
      "text/plain": [
       "True"
      ]
     },
     "execution_count": 299,
     "metadata": {},
     "output_type": "execute_result"
    }
   ],
   "source": [
    "A = np.random.rand(300, 200)\n",
    "swap_col_check(A)"
   ]
  },
  {
   "cell_type": "code",
   "execution_count": 300,
   "metadata": {},
   "outputs": [
    {
     "name": "stdout",
     "output_type": "stream",
     "text": [
      "6.29 ms ± 527 µs per loop (mean ± std. dev. of 7 runs, 100 loops each)\n"
     ]
    }
   ],
   "source": [
    "%%timeit\n",
    "A = np.random.rand(300, 200)\n",
    "swap_col(A)"
   ]
  },
  {
   "cell_type": "code",
   "execution_count": 301,
   "metadata": {},
   "outputs": [
    {
     "name": "stdout",
     "output_type": "stream",
     "text": [
      "180 ms ± 13.1 ms per loop (mean ± std. dev. of 7 runs, 10 loops each)\n"
     ]
    }
   ],
   "source": [
    "%%timeit\n",
    "A = np.random.rand(300, 200)\n",
    "naive(A)"
   ]
  },
  {
   "cell_type": "markdown",
   "metadata": {},
   "source": [
    "# 5.2"
   ]
  },
  {
   "cell_type": "code",
   "execution_count": 124,
   "metadata": {},
   "outputs": [],
   "source": [
    "def add_raw(Q):\n",
    "    new_raw = np.array([np.zeros(Q.shape[1])])\n",
    "    Q_ = np.concatenate([Q, new_raw.T], axis = 1)\n",
    "    new_raw = np.zeros(Q_.shape[1])\n",
    "    new_raw[-1] = 1\n",
    "    Q_ = np.concatenate([Q_, [new_raw]], axis = 0)\n",
    "    return Q_\n",
    "def cont_raw(A):\n",
    "    Q, R = np.linalg.qr(A, mode = 'complete')\n",
    "    Q_ = add_raw(Q)\n",
    "    A = np.concatenate([A, [np.random.rand(A.shape[1])]])\n",
    "    R_ = np.concatenate([R, [A[-1, :]]], axis = 0)\n",
    "    R_ = np.roll(R_, 1, axis = 0)\n",
    "    Q_ = np.roll(Q_, 1, axis = 1)\n",
    "    for i in range(A.shape[1]):\n",
    "        givens_rotation(Q_, R_, i, i + 1, i)\n",
    "def cont_raw_check(A):\n",
    "    Q, R = np.linalg.qr(A, mode = 'complete')\n",
    "    Q_ = add_raw(Q)\n",
    "    Q__ = np.copy(Q_)\n",
    "    A = np.concatenate([A, [np.random.rand(A.shape[1])]])\n",
    "    R_ = np.concatenate([R, [A[-1, :]]], axis = 0)\n",
    "    R_ = np.roll(R_, 1, axis = 0)\n",
    "    Q_ = np.roll(Q_, 1, axis = 1)\n",
    "    for i in range(A.shape[1]):\n",
    "        givens_rotation(Q_, R_, i, i + 1, i)\n",
    "    return np.isclose(A, Q_ @ R_).all()"
   ]
  },
  {
   "cell_type": "code",
   "execution_count": 115,
   "metadata": {},
   "outputs": [
    {
     "name": "stdout",
     "output_type": "stream",
     "text": [
      "4.89 ms ± 317 µs per loop (mean ± std. dev. of 7 runs, 100 loops each)\n"
     ]
    }
   ],
   "source": [
    "%%timeit \n",
    "A = np.random.rand(300, 200)\n",
    "cont_raw(A)"
   ]
  },
  {
   "cell_type": "code",
   "execution_count": 116,
   "metadata": {},
   "outputs": [
    {
     "name": "stdout",
     "output_type": "stream",
     "text": [
      "156 ms ± 757 µs per loop (mean ± std. dev. of 7 runs, 10 loops each)\n"
     ]
    }
   ],
   "source": [
    "%%timeit\n",
    "A = np.random.rand(301, 200)\n",
    "naive(A)"
   ]
  },
  {
   "cell_type": "code",
   "execution_count": 125,
   "metadata": {},
   "outputs": [
    {
     "data": {
      "text/plain": [
       "True"
      ]
     },
     "execution_count": 125,
     "metadata": {},
     "output_type": "execute_result"
    }
   ],
   "source": [
    "A = np.random.rand(300, 200)\n",
    "cont_raw_check(A)"
   ]
  },
  {
   "cell_type": "markdown",
   "metadata": {},
   "source": [
    "# 5.3"
   ]
  },
  {
   "cell_type": "code",
   "execution_count": 258,
   "metadata": {},
   "outputs": [],
   "source": [
    "def add_col(A, Q, R):\n",
    "    new_raw = np.zeros(R.shape[1])\n",
    "    R = np.concatenate([R, [new_raw]], axis = 0)\n",
    "    new_col = np.array([np.zeros(R.shape[0])])\n",
    "    R = np.concatenate([R, new_col.T], axis = 1)\n",
    "    i = Q.shape[1]\n",
    "    Q = np.concatenate([Q, np.array([A[:, -1]]).T], axis = 1)\n",
    "    for j in range(i):\n",
    "        R[j, i] = Q[:, -1] @ Q[:, j]\n",
    "        Q[:, i] -= Q[:, -1] @ Q[:, j] * Q[:, j]\n",
    "    R[i, i] = np.linalg.norm(Q[:, i])\n",
    "    Q[:, i] /= np.linalg.norm(Q[:, i])\n",
    "    return Q, R\n",
    "    \n",
    "def cont_col(A):\n",
    "    Q, R = np.linalg.qr(A)\n",
    "    new_raw = np.array([np.random.rand(A.shape[0])])\n",
    "    A = np.concatenate([A, new_raw.T], axis = 1)\n",
    "    add_col(A, Q, R)\n",
    "    \n",
    "def cont_col_check(A):\n",
    "    Q, R = np.linalg.qr(A)\n",
    "    new_raw = np.array([np.random.rand(A.shape[0])])\n",
    "    A = np.concatenate([A, new_raw.T], axis = 1)\n",
    "    Q, R = add_col(A, Q, R)\n",
    "    return np.isclose(A, Q @ R).all()"
   ]
  },
  {
   "cell_type": "code",
   "execution_count": 259,
   "metadata": {},
   "outputs": [
    {
     "data": {
      "text/plain": [
       "True"
      ]
     },
     "execution_count": 259,
     "metadata": {},
     "output_type": "execute_result"
    }
   ],
   "source": [
    "A = np.random.rand(300, 20)\n",
    "cont_col_check(A)"
   ]
  },
  {
   "cell_type": "code",
   "execution_count": 260,
   "metadata": {},
   "outputs": [
    {
     "name": "stdout",
     "output_type": "stream",
     "text": [
      "4.44 ms ± 171 µs per loop (mean ± std. dev. of 7 runs, 100 loops each)\n"
     ]
    }
   ],
   "source": [
    "%%timeit \n",
    "A = np.random.rand(300, 200)\n",
    "cont_col(A)"
   ]
  },
  {
   "cell_type": "code",
   "execution_count": 131,
   "metadata": {},
   "outputs": [
    {
     "name": "stdout",
     "output_type": "stream",
     "text": [
      "170 ms ± 8.06 ms per loop (mean ± std. dev. of 7 runs, 1 loop each)\n"
     ]
    }
   ],
   "source": [
    "%%timeit \n",
    "A = np.random.rand(300, 201)\n",
    "naive(A)"
   ]
  },
  {
   "cell_type": "code",
   "execution_count": null,
   "metadata": {},
   "outputs": [],
   "source": []
  },
  {
   "cell_type": "code",
   "execution_count": null,
   "metadata": {},
   "outputs": [],
   "source": []
  }
 ],
 "metadata": {
  "kernelspec": {
   "display_name": "Python 3 (ipykernel)",
   "language": "python",
   "name": "python3"
  },
  "language_info": {
   "codemirror_mode": {
    "name": "ipython",
    "version": 3
   },
   "file_extension": ".py",
   "mimetype": "text/x-python",
   "name": "python",
   "nbconvert_exporter": "python",
   "pygments_lexer": "ipython3",
   "version": "3.9.13"
  }
 },
 "nbformat": 4,
 "nbformat_minor": 2
}
